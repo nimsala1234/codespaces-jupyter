{
 "cells": [
  {
   "cell_type": "code",
   "execution_count": 7,
   "metadata": {},
   "outputs": [
    {
     "name": "stdout",
     "output_type": "stream",
     "text": [
      "Hello world! Python3\n"
     ]
    }
   ],
   "source": [
    "print(\"Hello world!\", end=\" \") \n",
    "print(\"Python3\")"
   ]
  },
  {
   "cell_type": "code",
   "execution_count": 11,
   "metadata": {},
   "outputs": [
    {
     "name": "stdout",
     "output_type": "stream",
     "text": [
      "IT AMC TECH\n",
      "IT | AMC | TECH\n"
     ]
    }
   ],
   "source": [
    "print(\"IT\", \"AMC\", \"TECH\")\n",
    "print(\"IT\", \"AMC\", \"TECH\" , sep=\" | \")"
   ]
  },
  {
   "cell_type": "code",
   "execution_count": 14,
   "metadata": {},
   "outputs": [
    {
     "name": "stdout",
     "output_type": "stream",
     "text": [
      "Pyhton | Java | PHP!\n",
      "IT / AMC / TECH!"
     ]
    }
   ],
   "source": [
    "print(\"Pyhton\" , \"Java\", \"PHP\", sep=' | ', end='!\\n' )\n",
    "print(\"IT\", \"AMC\", \"TECH\", sep=' / ', end='!')"
   ]
  },
  {
   "cell_type": "code",
   "execution_count": 19,
   "metadata": {},
   "outputs": [
    {
     "name": "stdout",
     "output_type": "stream",
     "text": [
      "aa\n",
      "***$$$"
     ]
    }
   ],
   "source": [
    "print('a'*2)\n",
    "print('*'*3, end='$'*3)\n"
   ]
  },
  {
   "cell_type": "code",
   "execution_count": 20,
   "metadata": {},
   "outputs": [
    {
     "name": "stdout",
     "output_type": "stream",
     "text": [
      "10 5\n"
     ]
    }
   ],
   "source": [
    "a = 10\n",
    "b = 5\n",
    "print(a, b)"
   ]
  },
  {
   "cell_type": "code",
   "execution_count": 22,
   "metadata": {},
   "outputs": [
    {
     "name": "stdout",
     "output_type": "stream",
     "text": [
      "4 | 4.0 | 0.4\n"
     ]
    }
   ],
   "source": [
    "a = 4\n",
    "b = 4.\n",
    "c = .4\n",
    "print(a,b,c , sep = ' | ')"
   ]
  },
  {
   "cell_type": "code",
   "execution_count": 27,
   "metadata": {},
   "outputs": [
    {
     "name": "stdout",
     "output_type": "stream",
     "text": [
      "4000.0\n",
      "0.004\n"
     ]
    }
   ],
   "source": [
    "print(4E3)\n",
    "print(4E-3)"
   ]
  },
  {
   "cell_type": "code",
   "execution_count": 28,
   "metadata": {},
   "outputs": [
    {
     "name": "stdout",
     "output_type": "stream",
     "text": [
      "True | False\n"
     ]
    }
   ],
   "source": [
    "a = True\n",
    "b = False\n",
    "print(a,b , sep=' | ')"
   ]
  },
  {
   "cell_type": "code",
   "execution_count": 30,
   "metadata": {},
   "outputs": [
    {
     "name": "stdout",
     "output_type": "stream",
     "text": [
      "python\n",
      "p y t h o n\n"
     ]
    }
   ],
   "source": [
    "subject = \"python\"\n",
    "print(subject)\n",
    "print(subject[0], subject[1], subject[2], subject[3], subject[4], subject[5], sep=' ')"
   ]
  },
  {
   "cell_type": "code",
   "execution_count": 34,
   "metadata": {},
   "outputs": [
    {
     "name": "stdout",
     "output_type": "stream",
     "text": [
      "8.0 3.6 16.0\n",
      "8\n"
     ]
    }
   ],
   "source": [
    "a = 4\n",
    "b = 4.\n",
    "c =.4\n",
    "print(a+b, b-c, a*b, sep=' ')\n",
    "print(2**3)"
   ]
  },
  {
   "cell_type": "code",
   "execution_count": 37,
   "metadata": {},
   "outputs": [
    {
     "name": "stdout",
     "output_type": "stream",
     "text": [
      "1.5\n",
      "1\n"
     ]
    }
   ],
   "source": [
    "a = 6\n",
    "b =4\n",
    "print(a/b)\n",
    "print(a//b)"
   ]
  },
  {
   "cell_type": "code",
   "execution_count": 39,
   "metadata": {},
   "outputs": [
    {
     "name": "stdout",
     "output_type": "stream",
     "text": [
      "17\n",
      "25\n"
     ]
    }
   ],
   "source": [
    "print(2+3 *5)\n",
    "print((2+3)*5 )"
   ]
  }
 ],
 "metadata": {
  "kernelspec": {
   "display_name": "Python 3",
   "language": "python",
   "name": "python3"
  },
  "language_info": {
   "codemirror_mode": {
    "name": "ipython",
    "version": 3
   },
   "file_extension": ".py",
   "mimetype": "text/x-python",
   "name": "python",
   "nbconvert_exporter": "python",
   "pygments_lexer": "ipython3",
   "version": "3.10.13"
  }
 },
 "nbformat": 4,
 "nbformat_minor": 2
}
