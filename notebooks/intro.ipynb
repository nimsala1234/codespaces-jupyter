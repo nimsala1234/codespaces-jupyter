{
 "cells": [
  {
   "cell_type": "code",
   "execution_count": 7,
   "metadata": {},
   "outputs": [
    {
     "name": "stdout",
     "output_type": "stream",
     "text": [
      "Hello world! Python3\n"
     ]
    }
   ],
   "source": [
    "print(\"Hello world!\", end=\" \") \n",
    "print(\"Python3\")"
   ]
  },
  {
   "cell_type": "code",
   "execution_count": 11,
   "metadata": {},
   "outputs": [
    {
     "name": "stdout",
     "output_type": "stream",
     "text": [
      "IT AMC TECH\n",
      "IT | AMC | TECH\n"
     ]
    }
   ],
   "source": [
    "print(\"IT\", \"AMC\", \"TECH\")\n",
    "print(\"IT\", \"AMC\", \"TECH\" , sep=\" | \")"
   ]
  },
  {
   "cell_type": "code",
   "execution_count": 14,
   "metadata": {},
   "outputs": [
    {
     "name": "stdout",
     "output_type": "stream",
     "text": [
      "Pyhton | Java | PHP!\n",
      "IT / AMC / TECH!"
     ]
    }
   ],
   "source": [
    "print(\"Pyhton\" , \"Java\", \"PHP\", sep=' | ', end='!\\n' )\n",
    "print(\"IT\", \"AMC\", \"TECH\", sep=' / ', end='!')"
   ]
  },
  {
   "cell_type": "code",
   "execution_count": 19,
   "metadata": {},
   "outputs": [
    {
     "name": "stdout",
     "output_type": "stream",
     "text": [
      "aa\n",
      "***$$$"
     ]
    }
   ],
   "source": [
    "print('a'*2)\n",
    "print('*'*3, end='$'*3)\n"
   ]
  },
  {
   "cell_type": "code",
   "execution_count": null,
   "metadata": {},
   "outputs": [],
   "source": []
  }
 ],
 "metadata": {
  "kernelspec": {
   "display_name": "Python 3",
   "language": "python",
   "name": "python3"
  },
  "language_info": {
   "codemirror_mode": {
    "name": "ipython",
    "version": 3
   },
   "file_extension": ".py",
   "mimetype": "text/x-python",
   "name": "python",
   "nbconvert_exporter": "python",
   "pygments_lexer": "ipython3",
   "version": "3.10.13"
  }
 },
 "nbformat": 4,
 "nbformat_minor": 2
}
